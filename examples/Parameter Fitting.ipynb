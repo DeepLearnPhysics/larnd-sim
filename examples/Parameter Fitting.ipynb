{
 "cells": [
  {
   "cell_type": "code",
   "execution_count": 1,
   "id": "589dffcc",
   "metadata": {},
   "outputs": [],
   "source": [
    "%load_ext autoreload\n",
    "\n",
    "%autoreload 2"
   ]
  },
  {
   "cell_type": "code",
   "execution_count": 2,
   "id": "04d91e90",
   "metadata": {
    "ExecuteTime": {
     "end_time": "2021-09-10T16:17:35.783961Z",
     "start_time": "2021-09-10T16:17:35.780875Z"
    }
   },
   "outputs": [],
   "source": [
    "# This is need so you can import larndsim without doing python setup.py install\n",
    "import os,sys,inspect\n",
    "currentdir = os.path.dirname(os.path.abspath(inspect.getfile(inspect.currentframe())))\n",
    "parentdir = os.path.dirname(currentdir)\n",
    "sys.path.insert(0,parentdir)"
   ]
  },
  {
   "cell_type": "code",
   "execution_count": 3,
   "id": "5afb0340",
   "metadata": {
    "ExecuteTime": {
     "end_time": "2021-09-10T16:17:37.542410Z",
     "start_time": "2021-09-10T16:17:36.716490Z"
    }
   },
   "outputs": [],
   "source": [
    "import matplotlib.pyplot as plt\n",
    "from matplotlib import cm, colors\n",
    "import mpl_toolkits.mplot3d.art3d as art3d\n",
    "\n",
    "import numpy as np\n",
    "import eagerpy as ep\n",
    "import h5py\n",
    "\n",
    "import matplotlib as mpl\n",
    "mpl.rcParams['figure.dpi'] = 100"
   ]
  },
  {
   "cell_type": "code",
   "execution_count": 4,
   "id": "75a0545f",
   "metadata": {
    "ExecuteTime": {
     "end_time": "2021-09-10T16:17:43.082648Z",
     "start_time": "2021-09-10T16:17:41.634432Z"
    }
   },
   "outputs": [],
   "source": [
    "from numpy.lib import recfunctions as rfn\n",
    "import torch\n",
    "\n",
    "def torch_from_structured(tracks):\n",
    "    tracks_np = rfn.structured_to_unstructured(tracks, copy=True, dtype=np.float32)\n",
    "    return torch.from_numpy(tracks_np).float()\n",
    "\n",
    "def structered_from_torch(tracks_torch, dtype):\n",
    "    return rfn.unstructured_to_structured(tracks_torch.cpu().numpy(), dtype=dtype)"
   ]
  },
  {
   "cell_type": "markdown",
   "id": "dba833c2",
   "metadata": {},
   "source": [
    "### Dataset import\n",
    "First of all we load the `edep-sim` output. For this sample we need to invert $z$ and $y$ axes."
   ]
  },
  {
   "cell_type": "code",
   "execution_count": 5,
   "id": "e4a2f556",
   "metadata": {
    "ExecuteTime": {
     "end_time": "2021-09-10T16:17:48.185567Z",
     "start_time": "2021-09-10T16:17:48.173208Z"
    }
   },
   "outputs": [],
   "source": [
    "with h5py.File('module0_corsika.h5', 'r') as f:\n",
    "    tracks = np.array(f['segments'])\n",
    "\n",
    "x_start = np.copy(tracks['x_start'] )\n",
    "x_end = np.copy(tracks['x_end'])\n",
    "x = np.copy(tracks['x'])\n",
    "\n",
    "tracks['x_start'] = np.copy(tracks['z_start'])\n",
    "tracks['x_end'] = np.copy(tracks['z_end'])\n",
    "tracks['x'] = np.copy(tracks['z'])\n",
    "\n",
    "tracks['z_start'] = x_start\n",
    "tracks['z_end'] = x_end\n",
    "tracks['z'] = x\n",
    "\n",
    "selected_tracks = tracks[30:40]\n",
    "selected_tracks_torch = torch_from_structured(np.copy(selected_tracks))"
   ]
  },
  {
   "cell_type": "markdown",
   "id": "4bfe656e",
   "metadata": {},
   "source": [
    "## Simulation\n",
    "To flexibly keep track of parameters/gradients, simulations are housed in a class `sim_with_grad`. This is derived from class versions of all the other modules. Parameters are housed in `consts`, with method `track_gradients` to promote the constants to `requires_grad=True` PyTorch tensors."
   ]
  },
  {
   "cell_type": "code",
   "execution_count": 6,
   "id": "d72a8b66",
   "metadata": {},
   "outputs": [
    {
     "name": "stdout",
     "output_type": "stream",
     "text": [
      "Generate <class 'larpix.configuration.configuration_v2b.Configuration_v2b'>.pixel_trim_dac using bits (0, 512)\n",
      "\t<function _list_property at 0x7ffb4a4d09d0>((<class 'int'>, 0, 31, 64, 8)) \n",
      "Generate <class 'larpix.configuration.configuration_v2b.Configuration_v2b'>.threshold_global using bits (512, 520)\n",
      "\t<function _basic_property at 0x7ffb4a4d0940>((<class 'int'>, 0, 255)) \n",
      "Generate <class 'larpix.configuration.configuration_v2b.Configuration_v2b'>.csa_gain using bits (520, 521)\n",
      "\t<function _compound_property at 0x7ffb4a4d0a60>((['csa_gain', 'csa_bypass_enable', 'bypass_caps_en'], (<class 'int'>, <class 'bool'>), 0, 1)) \n",
      "Generate <class 'larpix.configuration.configuration_v2b.Configuration_v2b'>.csa_bypass_enable using bits (521, 522)\n",
      "\t<function _compound_property at 0x7ffb4a4d0a60>((['csa_gain', 'csa_bypass_enable', 'bypass_caps_en'], (<class 'int'>, <class 'bool'>), 0, 1)) \n",
      "Generate <class 'larpix.configuration.configuration_v2b.Configuration_v2b'>.bypass_caps_en using bits (522, 523)\n",
      "\t<function _compound_property at 0x7ffb4a4d0a60>((['csa_gain', 'csa_bypass_enable', 'bypass_caps_en'], (<class 'int'>, <class 'bool'>), 0, 1)) \n",
      "Generate <class 'larpix.configuration.configuration_v2b.Configuration_v2b'>.csa_enable using bits (528, 592)\n",
      "\t<function _list_property at 0x7ffb4a4d09d0>(((<class 'int'>, <class 'bool'>), 0, 1, 64, 1)) \n",
      "Generate <class 'larpix.configuration.configuration_v2b.Configuration_v2b'>.ibias_tdac using bits (592, 596)\n",
      "\t<function _basic_property at 0x7ffb4a4d0940>((<class 'int'>, 0, 15)) \n",
      "Generate <class 'larpix.configuration.configuration_v2b.Configuration_v2b'>.ibias_comp using bits (600, 604)\n",
      "\t<function _basic_property at 0x7ffb4a4d0940>((<class 'int'>, 0, 15)) \n",
      "Generate <class 'larpix.configuration.configuration_v2b.Configuration_v2b'>.ibias_buffer using bits (608, 612)\n",
      "\t<function _basic_property at 0x7ffb4a4d0940>((<class 'int'>, 0, 15)) \n",
      "Generate <class 'larpix.configuration.configuration_v2b.Configuration_v2b'>.ibias_csa using bits (616, 620)\n",
      "\t<function _basic_property at 0x7ffb4a4d0940>((<class 'int'>, 0, 15)) \n",
      "Generate <class 'larpix.configuration.configuration_v2b.Configuration_v2b'>.ibias_vref_buffer using bits (624, 628)\n",
      "\t<function _basic_property at 0x7ffb4a4d0940>((<class 'int'>, 0, 15)) \n",
      "Generate <class 'larpix.configuration.configuration_v2b.Configuration_v2b'>.ibias_vcm_buffer using bits (632, 636)\n",
      "\t<function _basic_property at 0x7ffb4a4d0940>((<class 'int'>, 0, 15)) \n",
      "Generate <class 'larpix.configuration.configuration_v2b.Configuration_v2b'>.ibias_tpulse using bits (640, 644)\n",
      "\t<function _basic_property at 0x7ffb4a4d0940>((<class 'int'>, 0, 15)) \n",
      "Generate <class 'larpix.configuration.configuration_v2b.Configuration_v2b'>.ref_current_trim using bits (648, 653)\n",
      "\t<function _compound_property at 0x7ffb4a4d0a60>((['ref_current_trim', 'override_ref', 'ref_kickstart'], <class 'int'>, 0, 31)) \n",
      "Generate <class 'larpix.configuration.configuration_v2b.Configuration_v2b'>.override_ref using bits (653, 654)\n",
      "\t<function _compound_property at 0x7ffb4a4d0a60>((['ref_current_trim', 'override_ref', 'ref_kickstart'], (<class 'int'>, <class 'bool'>), 0, 1)) \n",
      "Generate <class 'larpix.configuration.configuration_v2b.Configuration_v2b'>.ref_kickstart using bits (654, 655)\n",
      "\t<function _compound_property at 0x7ffb4a4d0a60>((['ref_current_trim', 'override_ref', 'ref_kickstart'], (<class 'int'>, <class 'bool'>), 0, 1)) \n",
      "Generate <class 'larpix.configuration.configuration_v2b.Configuration_v2b'>.vref_dac using bits (656, 664)\n",
      "\t<function _basic_property at 0x7ffb4a4d0940>((<class 'int'>, 0, 255)) \n",
      "Generate <class 'larpix.configuration.configuration_v2b.Configuration_v2b'>.vcm_dac using bits (664, 672)\n",
      "\t<function _basic_property at 0x7ffb4a4d0940>((<class 'int'>, 0, 255)) \n",
      "Generate <class 'larpix.configuration.configuration_v2b.Configuration_v2b'>.csa_bypass_select using bits (672, 736)\n",
      "\t<function _list_property at 0x7ffb4a4d09d0>(((<class 'int'>, <class 'bool'>), 0, 1, 64, 1)) \n",
      "Generate <class 'larpix.configuration.configuration_v2b.Configuration_v2b'>.csa_monitor_select using bits (736, 800)\n",
      "\t<function _list_property at 0x7ffb4a4d09d0>(((<class 'int'>, <class 'bool'>), 0, 1, 64, 1)) \n",
      "Generate <class 'larpix.configuration.configuration_v2b.Configuration_v2b'>.csa_testpulse_enable using bits (800, 864)\n",
      "\t<function _list_property at 0x7ffb4a4d09d0>(((<class 'int'>, <class 'bool'>), 0, 1, 64, 1)) \n",
      "Generate <class 'larpix.configuration.configuration_v2b.Configuration_v2b'>.csa_testpulse_dac using bits (864, 872)\n",
      "\t<function _basic_property at 0x7ffb4a4d0940>((<class 'int'>, 0, 255)) \n",
      "Generate <class 'larpix.configuration.configuration_v2b.Configuration_v2b'>.current_monitor_bank0 using bits (872, 876)\n",
      "\t<function _list_property at 0x7ffb4a4d09d0>(((<class 'int'>, <class 'bool'>), 0, 1, 4, 1)) \n",
      "Generate <class 'larpix.configuration.configuration_v2b.Configuration_v2b'>.current_monitor_bank1 using bits (880, 884)\n",
      "\t<function _list_property at 0x7ffb4a4d09d0>(((<class 'int'>, <class 'bool'>), 0, 1, 4, 1)) \n",
      "Generate <class 'larpix.configuration.configuration_v2b.Configuration_v2b'>.current_monitor_bank2 using bits (888, 892)\n",
      "\t<function _list_property at 0x7ffb4a4d09d0>(((<class 'int'>, <class 'bool'>), 0, 1, 4, 1)) \n",
      "Generate <class 'larpix.configuration.configuration_v2b.Configuration_v2b'>.current_monitor_bank3 using bits (896, 900)\n",
      "\t<function _list_property at 0x7ffb4a4d09d0>(((<class 'int'>, <class 'bool'>), 0, 1, 4, 1)) \n",
      "Generate <class 'larpix.configuration.configuration_v2b.Configuration_v2b'>.voltage_monitor_bank0 using bits (904, 907)\n",
      "\t<function _list_property at 0x7ffb4a4d09d0>(((<class 'int'>, <class 'bool'>), 0, 1, 3, 1)) \n",
      "Generate <class 'larpix.configuration.configuration_v2b.Configuration_v2b'>.voltage_monitor_bank1 using bits (912, 915)\n",
      "\t<function _list_property at 0x7ffb4a4d09d0>(((<class 'int'>, <class 'bool'>), 0, 1, 3, 1)) \n",
      "Generate <class 'larpix.configuration.configuration_v2b.Configuration_v2b'>.voltage_monitor_bank2 using bits (920, 923)\n",
      "\t<function _list_property at 0x7ffb4a4d09d0>(((<class 'int'>, <class 'bool'>), 0, 1, 3, 1)) \n",
      "Generate <class 'larpix.configuration.configuration_v2b.Configuration_v2b'>.voltage_monitor_bank3 using bits (928, 931)\n",
      "\t<function _list_property at 0x7ffb4a4d09d0>(((<class 'int'>, <class 'bool'>), 0, 1, 3, 1)) \n",
      "Generate <class 'larpix.configuration.configuration_v2b.Configuration_v2b'>.voltage_monitor_refgen using bits (936, 944)\n",
      "\t<function _list_property at 0x7ffb4a4d09d0>(((<class 'int'>, <class 'bool'>), 0, 1, 8, 1)) \n",
      "Generate <class 'larpix.configuration.configuration_v2b.Configuration_v2b'>.digital_monitor_enable using bits (944, 945)\n",
      "\t<function _compound_property at 0x7ffb4a4d0a60>((['digital_monitor_enable', 'digital_monitor_select'], (<class 'int'>, <class 'bool'>), 0, 1)) \n",
      "Generate <class 'larpix.configuration.configuration_v2b.Configuration_v2b'>.digital_monitor_select using bits (945, 949)\n",
      "\t<function _compound_property at 0x7ffb4a4d0a60>((['digital_monitor_enable', 'digital_monitor_select'], (<class 'int'>, <class 'bool'>), 0, 10)) \n",
      "Generate <class 'larpix.configuration.configuration_v2b.Configuration_v2b'>.digital_monitor_chan using bits (952, 958)\n",
      "\t<function _basic_property at 0x7ffb4a4d0940>((<class 'int'>, 0, 63)) \n",
      "Generate <class 'larpix.configuration.configuration_v2b.Configuration_v2b'>.adc_hold_delay using bits (960, 976)\n",
      "\t<function _basic_property at 0x7ffb4a4d0940>((<class 'int'>, 0, 65535)) \n",
      "Generate <class 'larpix.configuration.configuration_v2b.Configuration_v2b'>.chip_id using bits (976, 984)\n",
      "\t<function _basic_property at 0x7ffb4a4d0940>((<class 'int'>, 0, 255)) \n",
      "Generate <class 'larpix.configuration.configuration_v2b.Configuration_v2b'>.enable_tx_dynamic_powerdown using bits (984, 985)\n",
      "\t<function _compound_property at 0x7ffb4a4d0a60>((['enable_tx_dynamic_powerdown', 'load_config_defaults', 'enable_fifo_diagnostics', 'clk_ctrl', 'tx_dynamic_powerdown_cycles'], (<class 'int'>, <class 'bool'>), 0, 1)) \n",
      "Generate <class 'larpix.configuration.configuration_v2b.Configuration_v2b'>.load_config_defaults using bits (985, 986)\n",
      "\t<function _compound_property at 0x7ffb4a4d0a60>((['enable_tx_dynamic_powerdown', 'load_config_defaults', 'enable_fifo_diagnostics', 'clk_ctrl', 'tx_dynamic_powerdown_cycles'], (<class 'int'>, <class 'bool'>), 0, 1)) \n",
      "Generate <class 'larpix.configuration.configuration_v2b.Configuration_v2b'>.enable_fifo_diagnostics using bits (986, 987)\n",
      "\t<function _compound_property at 0x7ffb4a4d0a60>((['enable_tx_dynamic_powerdown', 'load_config_defaults', 'enable_fifo_diagnostics', 'clk_ctrl', 'tx_dynamic_powerdown_cycles'], (<class 'int'>, <class 'bool'>), 0, 1)) \n",
      "Generate <class 'larpix.configuration.configuration_v2b.Configuration_v2b'>.clk_ctrl using bits (987, 989)\n",
      "\t<function _compound_property at 0x7ffb4a4d0a60>((['enable_tx_dynamic_powerdown', 'load_config_defaults', 'enable_fifo_diagnostics', 'clk_ctrl', 'tx_dynamic_powerdown_cycles'], (<class 'int'>, <class 'bool'>), 0, 3)) \n",
      "Generate <class 'larpix.configuration.configuration_v2b.Configuration_v2b'>.tx_dynamic_powerdown_cycles using bits (989, 992)\n",
      "\t<function _compound_property at 0x7ffb4a4d0a60>((['enable_tx_dynamic_powerdown', 'load_config_defaults', 'enable_fifo_diagnostics', 'clk_ctrl', 'tx_dynamic_powerdown_cycles'], (<class 'int'>, <class 'bool'>), 0, 7)) \n",
      "Generate <class 'larpix.configuration.configuration_v2b.Configuration_v2b'>.enable_piso_upstream using bits (992, 996)\n",
      "\t<function _list_property at 0x7ffb4a4d09d0>(((<class 'int'>, <class 'bool'>), 0, 1, 4, 1)) \n",
      "Generate <class 'larpix.configuration.configuration_v2b.Configuration_v2b'>.enable_piso_downstream using bits (1000, 1004)\n",
      "\t<function _list_property at 0x7ffb4a4d09d0>(((<class 'int'>, <class 'bool'>), 0, 1, 4, 1)) \n",
      "Generate <class 'larpix.configuration.configuration_v2b.Configuration_v2b'>.enable_posi using bits (1008, 1012)\n",
      "\t<function _list_property at 0x7ffb4a4d09d0>(((<class 'int'>, <class 'bool'>), 0, 1, 4, 1)) \n",
      "Generate <class 'larpix.configuration.configuration_v2b.Configuration_v2b'>.test_mode_uart0 using bits (1016, 1018)\n",
      "\t<function _compound_property at 0x7ffb4a4d0a60>((['test_mode_uart0', 'test_mode_uart1', 'test_mode_uart2', 'test_mode_uart3'], <class 'int'>, 0, 3)) \n",
      "Generate <class 'larpix.configuration.configuration_v2b.Configuration_v2b'>.test_mode_uart1 using bits (1018, 1020)\n",
      "\t<function _compound_property at 0x7ffb4a4d0a60>((['test_mode_uart0', 'test_mode_uart1', 'test_mode_uart2', 'test_mode_uart3'], <class 'int'>, 0, 3)) \n",
      "Generate <class 'larpix.configuration.configuration_v2b.Configuration_v2b'>.test_mode_uart2 using bits (1020, 1022)\n",
      "\t<function _compound_property at 0x7ffb4a4d0a60>((['test_mode_uart0', 'test_mode_uart1', 'test_mode_uart2', 'test_mode_uart3'], <class 'int'>, 0, 3)) \n",
      "Generate <class 'larpix.configuration.configuration_v2b.Configuration_v2b'>.test_mode_uart3 using bits (1022, 1024)\n",
      "\t<function _compound_property at 0x7ffb4a4d0a60>((['test_mode_uart0', 'test_mode_uart1', 'test_mode_uart2', 'test_mode_uart3'], <class 'int'>, 0, 3)) \n",
      "Generate <class 'larpix.configuration.configuration_v2b.Configuration_v2b'>.enable_cross_trigger using bits (1024, 1025)\n",
      "\t<function _compound_property at 0x7ffb4a4d0a60>((['enable_cross_trigger', 'enable_periodic_reset', 'enable_rolling_periodic_reset', 'enable_periodic_trigger', 'enable_rolling_periodic_trigger', 'enable_periodic_trigger_veto', 'enable_hit_veto'], <class 'int'>, 0, 1)) \n",
      "Generate <class 'larpix.configuration.configuration_v2b.Configuration_v2b'>.enable_periodic_reset using bits (1025, 1026)\n",
      "\t<function _compound_property at 0x7ffb4a4d0a60>((['enable_cross_trigger', 'enable_periodic_reset', 'enable_rolling_periodic_reset', 'enable_periodic_trigger', 'enable_rolling_periodic_trigger', 'enable_periodic_trigger_veto', 'enable_hit_veto'], <class 'int'>, 0, 1)) \n",
      "Generate <class 'larpix.configuration.configuration_v2b.Configuration_v2b'>.enable_rolling_periodic_reset using bits (1026, 1027)\n",
      "\t<function _compound_property at 0x7ffb4a4d0a60>((['enable_cross_trigger', 'enable_periodic_reset', 'enable_rolling_periodic_reset', 'enable_periodic_trigger', 'enable_rolling_periodic_trigger', 'enable_periodic_trigger_veto', 'enable_hit_veto'], <class 'int'>, 0, 1)) \n",
      "Generate <class 'larpix.configuration.configuration_v2b.Configuration_v2b'>.enable_periodic_trigger using bits (1027, 1028)\n",
      "\t<function _compound_property at 0x7ffb4a4d0a60>((['enable_cross_trigger', 'enable_periodic_reset', 'enable_rolling_periodic_reset', 'enable_periodic_trigger', 'enable_rolling_periodic_trigger', 'enable_periodic_trigger_veto', 'enable_hit_veto'], <class 'int'>, 0, 1)) \n",
      "Generate <class 'larpix.configuration.configuration_v2b.Configuration_v2b'>.enable_rolling_periodic_trigger using bits (1028, 1029)\n",
      "\t<function _compound_property at 0x7ffb4a4d0a60>((['enable_cross_trigger', 'enable_periodic_reset', 'enable_rolling_periodic_reset', 'enable_periodic_trigger', 'enable_rolling_periodic_trigger', 'enable_periodic_trigger_veto', 'enable_hit_veto'], <class 'int'>, 0, 1)) \n",
      "Generate <class 'larpix.configuration.configuration_v2b.Configuration_v2b'>.enable_periodic_trigger_veto using bits (1029, 1030)\n",
      "\t<function _compound_property at 0x7ffb4a4d0a60>((['enable_cross_trigger', 'enable_periodic_reset', 'enable_rolling_periodic_reset', 'enable_periodic_trigger', 'enable_rolling_periodic_trigger', 'enable_periodic_trigger_veto', 'enable_hit_veto'], <class 'int'>, 0, 1)) \n",
      "Generate <class 'larpix.configuration.configuration_v2b.Configuration_v2b'>.enable_hit_veto using bits (1030, 1031)\n",
      "\t<function _compound_property at 0x7ffb4a4d0a60>((['enable_cross_trigger', 'enable_periodic_reset', 'enable_rolling_periodic_reset', 'enable_periodic_trigger', 'enable_rolling_periodic_trigger', 'enable_periodic_trigger_veto', 'enable_hit_veto'], <class 'int'>, 0, 1)) \n",
      "Generate <class 'larpix.configuration.configuration_v2b.Configuration_v2b'>.shadow_reset_length using bits (1032, 1040)\n",
      "\t<function _basic_property at 0x7ffb4a4d0940>((<class 'int'>, 0, 255)) \n",
      "Generate <class 'larpix.configuration.configuration_v2b.Configuration_v2b'>.adc_burst_length using bits (1040, 1048)\n",
      "\t<function _basic_property at 0x7ffb4a4d0940>((<class 'int'>, 0, 255)) \n",
      "Generate <class 'larpix.configuration.configuration_v2b.Configuration_v2b'>.channel_mask using bits (1048, 1112)\n",
      "\t<function _list_property at 0x7ffb4a4d09d0>((<class 'int'>, 0, 1, 64, 1)) \n",
      "Generate <class 'larpix.configuration.configuration_v2b.Configuration_v2b'>.external_trigger_mask using bits (1112, 1176)\n",
      "\t<function _list_property at 0x7ffb4a4d09d0>((<class 'int'>, 0, 1, 64, 1)) \n",
      "Generate <class 'larpix.configuration.configuration_v2b.Configuration_v2b'>.cross_trigger_mask using bits (1176, 1240)\n",
      "\t<function _list_property at 0x7ffb4a4d09d0>((<class 'int'>, 0, 1, 64, 1)) \n",
      "Generate <class 'larpix.configuration.configuration_v2b.Configuration_v2b'>.periodic_trigger_mask using bits (1240, 1304)\n",
      "\t<function _list_property at 0x7ffb4a4d09d0>((<class 'int'>, 0, 1, 64, 1)) \n",
      "Generate <class 'larpix.configuration.configuration_v2b.Configuration_v2b'>.periodic_reset_cycles using bits (1304, 1328)\n",
      "\t<function _basic_property at 0x7ffb4a4d0940>((<class 'int'>, 0, 16777215)) \n",
      "Generate <class 'larpix.configuration.configuration_v2b.Configuration_v2b'>.periodic_trigger_cycles using bits (1328, 1360)\n",
      "\t<function _basic_property at 0x7ffb4a4d0940>((<class 'int'>, 0, 4294967295)) \n",
      "Generate <class 'larpix.configuration.configuration_v2b.Configuration_v2b'>.enable_dynamic_reset using bits (1360, 1361)\n",
      "\t<function _compound_property at 0x7ffb4a4d0a60>((['enable_dynamic_reset', 'enable_min_delta_adc', 'threshold_polarity', 'reset_length', 'mark_first_packet'], (<class 'int'>, <class 'bool'>), 0, 1)) \n",
      "Generate <class 'larpix.configuration.configuration_v2b.Configuration_v2b'>.enable_min_delta_adc using bits (1361, 1362)\n",
      "\t<function _compound_property at 0x7ffb4a4d0a60>((['enable_dynamic_reset', 'enable_min_delta_adc', 'threshold_polarity', 'reset_length', 'mark_first_packet'], (<class 'int'>, <class 'bool'>), 0, 1)) \n",
      "Generate <class 'larpix.configuration.configuration_v2b.Configuration_v2b'>.threshold_polarity using bits (1362, 1363)\n",
      "\t<function _compound_property at 0x7ffb4a4d0a60>((['enable_dynamic_reset', 'enable_min_delta_adc', 'threshold_polarity', 'reset_length', 'mark_first_packet'], (<class 'int'>, <class 'bool'>), 0, 1)) \n",
      "Generate <class 'larpix.configuration.configuration_v2b.Configuration_v2b'>.reset_length using bits (1363, 1366)\n",
      "\t<function _compound_property at 0x7ffb4a4d0a60>((['enable_dynamic_reset', 'enable_min_delta_adc', 'threshold_polarity', 'reset_length', 'mark_first_packet'], <class 'int'>, 0, 7)) \n",
      "Generate <class 'larpix.configuration.configuration_v2b.Configuration_v2b'>.mark_first_packet using bits (1366, 1367)\n",
      "\t<function _compound_property at 0x7ffb4a4d0a60>((['enable_dynamic_reset', 'enable_min_delta_adc', 'threshold_polarity', 'reset_length', 'mark_first_packet'], (<class 'int'>, <class 'bool'>), 0, 1)) \n",
      "Generate <class 'larpix.configuration.configuration_v2b.Configuration_v2b'>.reset_threshold using bits (1368, 1376)\n",
      "\t<function _basic_property at 0x7ffb4a4d0940>((<class 'int'>, 0, 255)) \n",
      "Generate <class 'larpix.configuration.configuration_v2b.Configuration_v2b'>.min_delta_adc using bits (1376, 1384)\n",
      "\t<function _basic_property at 0x7ffb4a4d0940>((<class 'int'>, 0, 255)) \n",
      "Generate <class 'larpix.configuration.configuration_v2b.Configuration_v2b'>.digital_threshold using bits (1384, 1896)\n",
      "\t<function _list_property at 0x7ffb4a4d09d0>((<class 'int'>, 0, 255, 64, 8)) \n",
      "Generate <class 'larpix.configuration.configuration_v2b.Configuration_v2b'>.RESERVED using bits (1896, 1912)\n",
      "\t<function _basic_property at 0x7ffb4a4d0940>((<class 'int'>, 0, 0)) \n",
      "Generate <class 'larpix.configuration.configuration_v2b.Configuration_v2b'>.tx_slices0 using bits (1912, 1916)\n",
      "\t<function _compound_property at 0x7ffb4a4d0a60>((['tx_slices0', 'tx_slices1'], <class 'int'>, 0, 15)) \n",
      "Generate <class 'larpix.configuration.configuration_v2b.Configuration_v2b'>.tx_slices1 using bits (1916, 1920)\n",
      "\t<function _compound_property at 0x7ffb4a4d0a60>((['tx_slices0', 'tx_slices1'], <class 'int'>, 0, 15)) \n",
      "Generate <class 'larpix.configuration.configuration_v2b.Configuration_v2b'>.tx_slices2 using bits (1920, 1924)\n",
      "\t<function _compound_property at 0x7ffb4a4d0a60>((['tx_slices2', 'tx_slices3'], <class 'int'>, 0, 15)) \n",
      "Generate <class 'larpix.configuration.configuration_v2b.Configuration_v2b'>.tx_slices3 using bits (1924, 1928)\n",
      "\t<function _compound_property at 0x7ffb4a4d0a60>((['tx_slices2', 'tx_slices3'], <class 'int'>, 0, 15)) \n",
      "Generate <class 'larpix.configuration.configuration_v2b.Configuration_v2b'>.i_tx_diff0 using bits (1928, 1932)\n",
      "\t<function _compound_property at 0x7ffb4a4d0a60>((['i_tx_diff0', 'i_tx_diff1'], <class 'int'>, 0, 15)) \n",
      "Generate <class 'larpix.configuration.configuration_v2b.Configuration_v2b'>.i_tx_diff1 using bits (1932, 1936)\n",
      "\t<function _compound_property at 0x7ffb4a4d0a60>((['i_tx_diff0', 'i_tx_diff1'], <class 'int'>, 0, 15)) \n",
      "Generate <class 'larpix.configuration.configuration_v2b.Configuration_v2b'>.i_tx_diff2 using bits (1936, 1940)\n",
      "\t<function _compound_property at 0x7ffb4a4d0a60>((['i_tx_diff2', 'i_tx_diff3'], <class 'int'>, 0, 15)) \n",
      "Generate <class 'larpix.configuration.configuration_v2b.Configuration_v2b'>.i_tx_diff3 using bits (1940, 1944)\n",
      "\t<function _compound_property at 0x7ffb4a4d0a60>((['i_tx_diff2', 'i_tx_diff3'], <class 'int'>, 0, 15)) \n",
      "Generate <class 'larpix.configuration.configuration_v2b.Configuration_v2b'>.i_rx0 using bits (1944, 1948)\n",
      "\t<function _compound_property at 0x7ffb4a4d0a60>((['i_rx0', 'i_rx1'], <class 'int'>, 0, 15)) \n",
      "Generate <class 'larpix.configuration.configuration_v2b.Configuration_v2b'>.i_rx1 using bits (1948, 1952)\n",
      "\t<function _compound_property at 0x7ffb4a4d0a60>((['i_rx0', 'i_rx1'], <class 'int'>, 0, 15)) \n",
      "Generate <class 'larpix.configuration.configuration_v2b.Configuration_v2b'>.i_rx2 using bits (1952, 1956)\n",
      "\t<function _compound_property at 0x7ffb4a4d0a60>((['i_rx2', 'i_rx3'], <class 'int'>, 0, 15)) \n",
      "Generate <class 'larpix.configuration.configuration_v2b.Configuration_v2b'>.i_rx3 using bits (1956, 1960)\n",
      "\t<function _compound_property at 0x7ffb4a4d0a60>((['i_rx2', 'i_rx3'], <class 'int'>, 0, 15)) \n",
      "Generate <class 'larpix.configuration.configuration_v2b.Configuration_v2b'>.i_rx_clk using bits (1960, 1964)\n",
      "\t<function _compound_property at 0x7ffb4a4d0a60>((['i_rx_clk', 'i_rx_rst'], <class 'int'>, 0, 15)) \n",
      "Generate <class 'larpix.configuration.configuration_v2b.Configuration_v2b'>.i_rx_rst using bits (1964, 1968)\n",
      "\t<function _compound_property at 0x7ffb4a4d0a60>((['i_rx_clk', 'i_rx_rst'], <class 'int'>, 0, 15)) \n",
      "Generate <class 'larpix.configuration.configuration_v2b.Configuration_v2b'>.i_rx_ext_trig using bits (1968, 1972)\n",
      "\t<function _basic_property at 0x7ffb4a4d0940>((<class 'int'>, 0, 15)) \n",
      "Generate <class 'larpix.configuration.configuration_v2b.Configuration_v2b'>.r_term0 using bits (1976, 1981)\n",
      "\t<function _basic_property at 0x7ffb4a4d0940>((<class 'int'>, 0, 31)) \n",
      "Generate <class 'larpix.configuration.configuration_v2b.Configuration_v2b'>.r_term1 using bits (1984, 1989)\n",
      "\t<function _basic_property at 0x7ffb4a4d0940>((<class 'int'>, 0, 31)) \n",
      "Generate <class 'larpix.configuration.configuration_v2b.Configuration_v2b'>.r_term2 using bits (1992, 1997)\n",
      "\t<function _basic_property at 0x7ffb4a4d0940>((<class 'int'>, 0, 31)) \n",
      "Generate <class 'larpix.configuration.configuration_v2b.Configuration_v2b'>.r_term3 using bits (2000, 2005)\n",
      "\t<function _basic_property at 0x7ffb4a4d0940>((<class 'int'>, 0, 31)) \n",
      "Generate <class 'larpix.configuration.configuration_v2b.Configuration_v2b'>.r_term_clk using bits (2008, 2013)\n",
      "\t<function _basic_property at 0x7ffb4a4d0940>((<class 'int'>, 0, 31)) \n",
      "Generate <class 'larpix.configuration.configuration_v2b.Configuration_v2b'>.r_term_reset using bits (2016, 2021)\n",
      "\t<function _basic_property at 0x7ffb4a4d0940>((<class 'int'>, 0, 31)) \n",
      "Generate <class 'larpix.configuration.configuration_v2b.Configuration_v2b'>.r_term_ext_trig using bits (2024, 2029)\n",
      "\t<function _basic_property at 0x7ffb4a4d0940>((<class 'int'>, 0, 31)) \n",
      "Generate <class 'larpix.configuration.configuration_v2b.Configuration_v2b'>.v_cm_lvds_tx0 using bits (2032, 2035)\n",
      "\t<function _compound_property at 0x7ffb4a4d0a60>((['v_cm_lvds_tx0', 'v_cm_lvds_tx0'], <class 'int'>, 0, 7)) \n",
      "Generate <class 'larpix.configuration.configuration_v2b.Configuration_v2b'>.v_cm_lvds_tx1 using bits (2036, 2039)\n",
      "\t<function _compound_property at 0x7ffb4a4d0a60>((['v_cm_lvds_tx0', 'v_cm_lvds_tx0'], <class 'int'>, 0, 7)) \n",
      "Generate <class 'larpix.configuration.configuration_v2b.Configuration_v2b'>.v_cm_lvds_tx2 using bits (2040, 2043)\n",
      "\t<function _compound_property at 0x7ffb4a4d0a60>((['v_cm_lvds_tx2', 'v_cm_lvds_tx3'], <class 'int'>, 0, 7)) \n",
      "Generate <class 'larpix.configuration.configuration_v2b.Configuration_v2b'>.v_cm_lvds_tx3 using bits (2044, 2047)\n",
      "\t<function _compound_property at 0x7ffb4a4d0a60>((['v_cm_lvds_tx2', 'v_cm_lvds_tx3'], <class 'int'>, 0, 7)) \n"
     ]
    }
   ],
   "source": [
    "from larndsim.sim_with_grad import sim_with_grad"
   ]
  },
  {
   "cell_type": "markdown",
   "id": "22a082f3",
   "metadata": {},
   "source": [
    "## The simulation\n",
    "Following the flow of the simulation chain, define a function which takes in the `sim_with_grad` object, runs whatever pieces of the simulation, and returns desired output."
   ]
  },
  {
   "cell_type": "code",
   "execution_count": 7,
   "id": "99a68819",
   "metadata": {},
   "outputs": [
    {
     "name": "stderr",
     "output_type": "stream",
     "text": [
      "/sdf/home/s/sgaz/conda/envs/ml/lib/python3.8/site-packages/ipykernel/ipkernel.py:287: DeprecationWarning: `should_run_async` will not call `transform_cell` automatically in the future. Please pass the result to `transformed_cell` argument and any exception that happen during thetransform in `preprocessing_exc_tuple` in IPython 7.17 and above.\n",
      "  and should_run_async(code)\n"
     ]
    }
   ],
   "source": [
    "from larndsim.sim_with_grad import sim_with_grad"
   ]
  },
  {
   "cell_type": "code",
   "execution_count": 8,
   "id": "234bdd61",
   "metadata": {},
   "outputs": [],
   "source": [
    "# Here we build a map between tracks and event IDs (no param dependence, so np should be ok)\n",
    "unique_eventIDs = np.unique(selected_tracks['eventID'])\n",
    "event_id_map = np.searchsorted(unique_eventIDs,np.asarray(selected_tracks['eventID']))\n",
    "event_id_map_torch = torch.from_numpy(event_id_map)"
   ]
  },
  {
   "cell_type": "code",
   "execution_count": 9,
   "id": "f3cb0b1f",
   "metadata": {},
   "outputs": [],
   "source": [
    "def all_sim(sim, selected_tracks, fields, event_id_map):\n",
    "    selected_tracks_quench = sim.quench(selected_tracks, sim.birks, fields=fields)\n",
    "    selected_tracks_drift = sim.drift(selected_tracks_quench, fields=fields)\n",
    "\n",
    "    active_pixels_torch, neighboring_pixels_torch, n_pixels_list_ep = sim.get_pixels(selected_tracks_drift,\n",
    "                                                                                     fields=fields)\n",
    "\n",
    "    track_starts_torch, max_length_torch = sim.time_intervals(event_id_map_torch, \n",
    "                                                              selected_tracks_drift, \n",
    "                                                              fields=fields)\n",
    "\n",
    "    signals_ep = sim.tracks_current(neighboring_pixels_torch, selected_tracks_drift, \n",
    "                                          max_length_torch,\n",
    "                                          fields=fields)\n",
    "    \n",
    "    unique_pix_torch = torch.empty((0, 2))\n",
    "    pixels_signals_torch = torch.zeros((len(unique_pix_torch), len(sim.time_ticks)*3))\n",
    "\n",
    "    shapes_torch = neighboring_pixels_torch.shape\n",
    "    joined_torch = neighboring_pixels_torch.reshape(shapes_torch[0]*shapes_torch[1], 2)\n",
    "\n",
    "    this_unique_pix_torch = torch.unique(joined_torch, dim=0)\n",
    "    this_unique_pix_torch = this_unique_pix_torch[(this_unique_pix_torch[:,0] != -1) & (this_unique_pix_torch[:,1] != -1),:]\n",
    "    unique_pix_torch = torch.cat((unique_pix_torch, this_unique_pix_torch),dim=0)\n",
    "\n",
    "    this_pixels_signals_torch = torch.zeros((len(this_unique_pix_torch), len(sim.time_ticks)*3))\n",
    "    pixels_signals_torch = torch.cat((pixels_signals_torch, this_pixels_signals_torch), dim=0)\n",
    "\n",
    "    pixel_index_map_torch = torch.full((selected_tracks.shape[0], neighboring_pixels_torch.shape[1]), -1)\n",
    "    compare_torch = (neighboring_pixels_torch[..., np.newaxis, :] == unique_pix_torch)\n",
    "\n",
    "    indices_torch = torch.where(torch.logical_and(compare_torch[..., 0], compare_torch[...,1]))\n",
    "    pixel_index_map_torch[indices_torch[0], indices_torch[1]] = indices_torch[2]\n",
    "    \n",
    "    pixels_signals_torch = sim.sum_pixel_signals(pixels_signals_torch,\n",
    "                                                 signals_ep,\n",
    "                                                track_starts_torch,\n",
    "                                                pixel_index_map_torch)\n",
    "    \n",
    "    currents = pixels_signals_torch.sum(dim=1)*sim.t_sampling/sim.e_charge\n",
    "\n",
    "    return currents"
   ]
  },
  {
   "cell_type": "code",
   "execution_count": 10,
   "id": "e0e915fe",
   "metadata": {},
   "outputs": [],
   "source": [
    "# Update parameters for training loop\n",
    "def update_grad_param(sim, name, value):\n",
    "    setattr(sim, name, value)\n",
    "    sim.track_gradients([name])"
   ]
  },
  {
   "cell_type": "markdown",
   "id": "8a1b13eb",
   "metadata": {},
   "source": [
    "## Experiment: pseudo-data\n",
    "1. Construct dataset with one set of parameters\n",
    "2. Initialize parameters to something else\n",
    "3. See if we can recover default parameters"
   ]
  },
  {
   "cell_type": "code",
   "execution_count": 11,
   "id": "9ef3f532",
   "metadata": {},
   "outputs": [],
   "source": [
    "from larndsim.sim_with_grad import sim_with_grad"
   ]
  },
  {
   "cell_type": "code",
   "execution_count": 12,
   "id": "82c6feca",
   "metadata": {},
   "outputs": [
    {
     "name": "stderr",
     "output_type": "stream",
     "text": [
      "/sdf/home/s/sgaz/conda/envs/ml/lib/python3.8/site-packages/torch/_tensor.py:575: UserWarning: floor_divide is deprecated, and will be removed in a future version of pytorch. It currently rounds toward 0 (like the 'trunc' function NOT 'floor'). This results in incorrect rounding for negative values.\n",
      "To keep the current behavior, use torch.div(a, b, rounding_mode='trunc'), or for actual floor division, use torch.div(a, b, rounding_mode='floor'). (Triggered internally at  /pytorch/aten/src/ATen/native/BinaryOps.cpp:467.)\n",
      "  return torch.floor_divide(self, other)\n"
     ]
    }
   ],
   "source": [
    "#Simulate with defaults: in particular, eField == 0.5\n",
    "sim_default = sim_with_grad()\n",
    "sim_default.load_detector_properties(\"../larndsim/detector_properties/module0.yaml\",\n",
    "                             \"../larndsim/pixel_layouts/multi_tile_layout-2.2.16.yaml\")\n",
    "target = all_sim(sim_default, selected_tracks_torch, selected_tracks.dtype.names, event_id_map)"
   ]
  },
  {
   "cell_type": "code",
   "execution_count": 13,
   "id": "d11a0401",
   "metadata": {},
   "outputs": [],
   "source": [
    "#Setup simulation object for training\n",
    "sim = sim_with_grad()\n",
    "sim.load_detector_properties(\"../larndsim/detector_properties/module0.yaml\",\n",
    "                             \"../larndsim/pixel_layouts/multi_tile_layout-2.2.16.yaml\")"
   ]
  },
  {
   "cell_type": "code",
   "execution_count": 14,
   "id": "07bef901",
   "metadata": {},
   "outputs": [
    {
     "name": "stdout",
     "output_type": "stream",
     "text": [
      "tensor(-5538057.5000)\n",
      "tensor(0.4661, requires_grad=True)\n",
      "tensor(-304276.5938)\n",
      "tensor(0.4919, requires_grad=True)\n",
      "tensor(-63278.4805)\n",
      "tensor(0.4964, requires_grad=True)\n",
      "tensor(-27730.7383)\n",
      "tensor(0.4976, requires_grad=True)\n",
      "tensor(-17873.5273)\n",
      "tensor(0.4983, requires_grad=True)\n",
      "tensor(-12805.8135)\n",
      "tensor(0.4988, requires_grad=True)\n",
      "tensor(-9389.6201)\n",
      "tensor(0.4991, requires_grad=True)\n",
      "tensor(-6921.8623)\n",
      "tensor(0.4993, requires_grad=True)\n",
      "tensor(-5110.7168)\n",
      "tensor(0.4995, requires_grad=True)\n",
      "tensor(-3778.2598)\n",
      "tensor(0.4996, requires_grad=True)\n",
      "tensor(-2796.9995)\n",
      "tensor(0.4997, requires_grad=True)\n",
      "tensor(-2068.5120)\n",
      "tensor(0.4998, requires_grad=True)\n",
      "tensor(-1531.3508)\n",
      "tensor(0.4998, requires_grad=True)\n",
      "tensor(-1135.0048)\n",
      "tensor(0.4999, requires_grad=True)\n",
      "tensor(-837.7426)\n",
      "tensor(0.4999, requires_grad=True)\n",
      "tensor(-622.3874)\n",
      "tensor(0.4999, requires_grad=True)\n",
      "tensor(-461.5683)\n",
      "tensor(0.5000, requires_grad=True)\n",
      "tensor(-342.0740)\n",
      "tensor(0.5000, requires_grad=True)\n",
      "tensor(-253.6972)\n",
      "tensor(0.5000, requires_grad=True)\n",
      "tensor(-187.1164)\n",
      "tensor(0.5000, requires_grad=True)\n"
     ]
    }
   ],
   "source": [
    "#Simple MSE loss between target and output\n",
    "loss_fn = torch.nn.MSELoss()\n",
    "\n",
    "#Initialize eField to different value\n",
    "eField_init = 0.3\n",
    "update_grad_param(sim, \"eField\", eField_init)\n",
    "\n",
    "# Should be smarter w/ lr, but for now eyeball given gradient\n",
    "optimizer = torch.optim.SGD([sim.eField], lr=3e-8, momentum=0.1)\n",
    "\n",
    "training_step_eFields = []\n",
    "training_step_currents = []\n",
    "#Training loop\n",
    "for epoch in range(20):\n",
    "    optimizer.zero_grad()\n",
    "    \n",
    "    #Simulate with that parameter and get output\n",
    "    output = all_sim(sim, selected_tracks_torch, selected_tracks.dtype.names, event_id_map)\n",
    "    \n",
    "    #Calc loss between simulated and target + backprop\n",
    "    loss = loss_fn(output, target)\n",
    "    loss.backward()\n",
    "    \n",
    "    print(sim.eField.grad)\n",
    "    optimizer.step()\n",
    "    print(sim.eField)\n",
    "    training_step_eFields.append(sim.eField.detach())\n",
    "    training_step_currents.append(output.detach())"
   ]
  },
  {
   "cell_type": "code",
   "execution_count": 15,
   "id": "93bb7a3f",
   "metadata": {
    "scrolled": true
   },
   "outputs": [
    {
     "data": {
      "image/png": "[encoded data removed]",
      "text/plain": [
       "<Figure size 432x288 with 1 Axes>"
      ]
     },
     "metadata": {
      "needs_background": "light"
     },
     "output_type": "display_data"
    }
   ],
   "source": [
    "%matplotlib inline\n",
    "\n",
    "for ic, current in enumerate(training_step_currents):\n",
    "    plt.plot(current[target > 0].numpy()/target[target > 0].detach().numpy(), \n",
    "             label='eField = %.2f' % training_step_eFields[ic])\n",
    "\n",
    "plt.xlabel('Pixel (with current > 0)')\n",
    "plt.ylabel('Current Pred / Target')\n",
    "\n",
    "plt.show()"
   ]
  },
  {
   "cell_type": "markdown",
   "id": "05ad3a2e",
   "metadata": {},
   "source": [
    "## Repeat 1 parameter fit for lifetime"
   ]
  },
  {
   "cell_type": "code",
   "execution_count": 16,
   "id": "5da95f87",
   "metadata": {},
   "outputs": [
    {
     "name": "stderr",
     "output_type": "stream",
     "text": [
      "/sdf/home/s/sgaz/conda/envs/ml/lib/python3.8/site-packages/ipykernel/ipkernel.py:287: DeprecationWarning: `should_run_async` will not call `transform_cell` automatically in the future. Please pass the result to `transformed_cell` argument and any exception that happen during thetransform in `preprocessing_exc_tuple` in IPython 7.17 and above.\n",
      "  and should_run_async(code)\n"
     ]
    }
   ],
   "source": [
    "from larndsim.sim_with_grad import sim_with_grad"
   ]
  },
  {
   "cell_type": "code",
   "execution_count": 17,
   "id": "0c75e247",
   "metadata": {},
   "outputs": [],
   "source": [
    "#Simulate with defaults: in particular, lifetime == 2200\n",
    "sim_default = sim_with_grad()\n",
    "sim_default.load_detector_properties(\"../larndsim/detector_properties/module0.yaml\",\n",
    "                             \"../larndsim/pixel_layouts/multi_tile_layout-2.2.16.yaml\")\n",
    "target = all_sim(sim_default, selected_tracks_torch, selected_tracks.dtype.names, event_id_map)"
   ]
  },
  {
   "cell_type": "code",
   "execution_count": 18,
   "id": "5d15c249",
   "metadata": {},
   "outputs": [],
   "source": [
    "#Setup simulation object for training\n",
    "sim = sim_with_grad()\n",
    "sim.load_detector_properties(\"../larndsim/detector_properties/module0.yaml\",\n",
    "                             \"../larndsim/pixel_layouts/multi_tile_layout-2.2.16.yaml\")"
   ]
  },
  {
   "cell_type": "code",
   "execution_count": 19,
   "id": "505c3f08",
   "metadata": {},
   "outputs": [
    {
     "name": "stdout",
     "output_type": "stream",
     "text": [
      "tensor(-50.1913)\n",
      "tensor(2050.1914, requires_grad=True)\n",
      "tensor(-35.0155)\n",
      "tensor(2090.2261, requires_grad=True)\n",
      "tensor(-24.2720)\n",
      "tensor(2118.5015, requires_grad=True)\n",
      "tensor(-17.3376)\n",
      "tensor(2138.6667, requires_grad=True)\n",
      "tensor(-12.6975)\n",
      "tensor(2153.3806, requires_grad=True)\n",
      "tensor(-9.4626)\n",
      "tensor(2164.3147, requires_grad=True)\n",
      "tensor(-7.1385)\n",
      "tensor(2172.5466, requires_grad=True)\n",
      "tensor(-5.4321)\n",
      "tensor(2178.8020, requires_grad=True)\n",
      "tensor(-4.1598)\n",
      "tensor(2183.5874, requires_grad=True)\n",
      "tensor(-3.2005)\n",
      "tensor(2187.2664, requires_grad=True)\n",
      "tensor(-2.4708)\n",
      "tensor(2190.1050, requires_grad=True)\n",
      "tensor(-1.9129)\n",
      "tensor(2192.3018, requires_grad=True)\n",
      "tensor(-1.4840)\n",
      "tensor(2194.0054, requires_grad=True)\n",
      "tensor(-1.1529)\n",
      "tensor(2195.3286, requires_grad=True)\n",
      "tensor(-0.8970)\n",
      "tensor(2196.3579, requires_grad=True)\n",
      "tensor(-0.6984)\n",
      "tensor(2197.1592, requires_grad=True)\n",
      "tensor(-0.5440)\n",
      "tensor(2197.7832, requires_grad=True)\n",
      "tensor(-0.4241)\n",
      "tensor(2198.2698, requires_grad=True)\n",
      "tensor(-0.3310)\n",
      "tensor(2198.6494, requires_grad=True)\n",
      "tensor(-0.2580)\n",
      "tensor(2198.9453, requires_grad=True)\n"
     ]
    }
   ],
   "source": [
    "#Simple MSE loss between target and output\n",
    "loss_fn = torch.nn.MSELoss()\n",
    "\n",
    "#Initialize lifetime to different value\n",
    "lifetime_init = 2000\n",
    "update_grad_param(sim, \"lifetime\", lifetime_init)\n",
    "\n",
    "# Should be smarter w/ lr, but for now eyeball given gradient\n",
    "optimizer = torch.optim.SGD([sim.lifetime], lr=1, momentum=0.1)\n",
    "\n",
    "training_step_lifetimes = []\n",
    "training_step_currents = []\n",
    "#Training loop\n",
    "for epoch in range(20):\n",
    "    optimizer.zero_grad()\n",
    "    \n",
    "    #Simulate with that parameter and get output\n",
    "    output = all_sim(sim, selected_tracks_torch, selected_tracks.dtype.names, event_id_map)\n",
    "    \n",
    "    #Calc loss between simulated and target + backprop\n",
    "    loss = loss_fn(output, target)\n",
    "    loss.backward()\n",
    "    \n",
    "    print(sim.lifetime.grad)\n",
    "    optimizer.step()\n",
    "    print(sim.lifetime)\n",
    "    training_step_lifetimes.append(sim.lifetime.detach())\n",
    "    training_step_currents.append(output.detach())"
   ]
  },
  {
   "cell_type": "code",
   "execution_count": 20,
   "id": "4fb48b32",
   "metadata": {},
   "outputs": [
    {
     "data": {
      "image/png": "[encoded data removed]",
      "text/plain": [
       "<Figure size 432x288 with 1 Axes>"
      ]
     },
     "metadata": {
      "needs_background": "light"
     },
     "output_type": "display_data"
    }
   ],
   "source": [
    "%matplotlib inline\n",
    "\n",
    "for ic, current in enumerate(training_step_currents):\n",
    "    plt.plot(current[target > 0].numpy()/target[target > 0].detach().numpy(), \n",
    "             label='lifetime = %.1f' % training_step_lifetimes[ic])\n",
    "\n",
    "plt.xlabel('Pixel (with current > 0)')\n",
    "plt.ylabel('Current Pred / Target')\n",
    "\n",
    "plt.show()"
   ]
  },
  {
   "cell_type": "markdown",
   "id": "4ddd59b3",
   "metadata": {},
   "source": [
    "## Try 2 parameter fit? (lifetime and eField)"
   ]
  },
  {
   "cell_type": "code",
   "execution_count": 21,
   "id": "abd7ba25",
   "metadata": {},
   "outputs": [
    {
     "name": "stderr",
     "output_type": "stream",
     "text": [
      "/sdf/home/s/sgaz/conda/envs/ml/lib/python3.8/site-packages/ipykernel/ipkernel.py:287: DeprecationWarning: `should_run_async` will not call `transform_cell` automatically in the future. Please pass the result to `transformed_cell` argument and any exception that happen during thetransform in `preprocessing_exc_tuple` in IPython 7.17 and above.\n",
      "  and should_run_async(code)\n"
     ]
    }
   ],
   "source": [
    "from larndsim.sim_with_grad import sim_with_grad"
   ]
  },
  {
   "cell_type": "code",
   "execution_count": 22,
   "id": "baf96f8b",
   "metadata": {},
   "outputs": [],
   "source": [
    "#Simulate with defaults: in particular, lifetime == 2200\n",
    "sim_default = sim_with_grad()\n",
    "sim_default.load_detector_properties(\"../larndsim/detector_properties/module0.yaml\",\n",
    "                             \"../larndsim/pixel_layouts/multi_tile_layout-2.2.16.yaml\")\n",
    "target = all_sim(sim_default, selected_tracks_torch, selected_tracks.dtype.names, event_id_map)"
   ]
  },
  {
   "cell_type": "code",
   "execution_count": 23,
   "id": "d6348fb0",
   "metadata": {},
   "outputs": [],
   "source": [
    "#Setup simulation object for training\n",
    "sim = sim_with_grad()\n",
    "sim.load_detector_properties(\"../larndsim/detector_properties/module0.yaml\",\n",
    "                             \"../larndsim/pixel_layouts/multi_tile_layout-2.2.16.yaml\")"
   ]
  },
  {
   "cell_type": "code",
   "execution_count": 24,
   "id": "4b428490",
   "metadata": {},
   "outputs": [
    {
     "name": "stdout",
     "output_type": "stream",
     "text": [
      "tensor(-454.9836) tensor(-6070517.)\n",
      "tensor(2454.9836, requires_grad=True) tensor(0.4821, requires_grad=True)\n",
      "tensor(17.4011) tensor(144784.6406)\n",
      "tensor(2574.0776, requires_grad=True) tensor(0.5324, requires_grad=True)\n",
      "tensor(73.2133) tensor(556685.9375)\n",
      "tensor(2536.5925, requires_grad=True) tensor(0.5308, requires_grad=True)\n",
      "tensor(69.8224) tensor(518528.2812)\n",
      "tensor(2455.5247, requires_grad=True) tensor(0.5148, requires_grad=True)\n",
      "tensor(49.6801) tensor(366310.5312)\n",
      "tensor(2381.5242, requires_grad=True) tensor(0.4990, requires_grad=True)\n",
      "tensor(26.4762) tensor(194648.8750)\n",
      "tensor(2332.8479, requires_grad=True) tensor(0.4884, requires_grad=True)\n",
      "tensor(8.6787) tensor(63596.1953)\n",
      "tensor(2309.5662, requires_grad=True) tensor(0.4833, requires_grad=True)\n",
      "tensor(-0.5974) tensor(-4612.4800)\n",
      "tensor(2303.1792, requires_grad=True) tensor(0.4819, requires_grad=True)\n",
      "tensor(-3.2223) tensor(-23903.4199)\n",
      "tensor(2304.4854, requires_grad=True) tensor(0.4822, requires_grad=True)\n",
      "tensor(-2.6617) tensor(-19782.0879)\n",
      "tensor(2307.5388, requires_grad=True) tensor(0.4829, requires_grad=True)\n",
      "tensor(-1.3815) tensor(-10373.5137)\n",
      "tensor(2309.8364, requires_grad=True) tensor(0.4834, requires_grad=True)\n",
      "tensor(-0.4222) tensor(-3323.4004)\n",
      "tensor(2310.9478, requires_grad=True) tensor(0.4837, requires_grad=True)\n",
      "tensor(0.0459) tensor(116.5296)\n",
      "tensor(2311.2354, requires_grad=True) tensor(0.4837, requires_grad=True)\n",
      "tensor(0.1744) tensor(1060.8918)\n",
      "tensor(2311.1472, requires_grad=True) tensor(0.4837, requires_grad=True)\n",
      "tensor(0.1492) tensor(875.6129)\n",
      "tensor(2310.9717, requires_grad=True) tensor(0.4837, requires_grad=True)\n",
      "tensor(0.0881) tensor(427.0432)\n",
      "tensor(2310.8308, requires_grad=True) tensor(0.4837, requires_grad=True)\n",
      "tensor(0.0411) tensor(81.2624)\n",
      "tensor(2310.7476, requires_grad=True) tensor(0.4837, requires_grad=True)\n",
      "tensor(0.0180) tensor(-87.9652)\n",
      "tensor(2310.7046, requires_grad=True) tensor(0.4837, requires_grad=True)\n",
      "tensor(0.0113) tensor(-137.7874)\n",
      "tensor(2310.6804, requires_grad=True) tensor(0.4837, requires_grad=True)\n",
      "tensor(0.0121) tensor(-131.6582)\n",
      "tensor(2310.6611, requires_grad=True) tensor(0.4837, requires_grad=True)\n"
     ]
    }
   ],
   "source": [
    "#Simple MSE loss between target and output\n",
    "loss_fn = torch.nn.MSELoss()\n",
    "\n",
    "#Initialize both lifetime and eField to different value\n",
    "lifetime_init = 2000\n",
    "eField_init = 0.3\n",
    "update_grad_param(sim, \"lifetime\", lifetime_init)\n",
    "update_grad_param(sim, \"eField\", eField_init)\n",
    "\n",
    "# Should be smarter w/ lr, but for now eyeball given gradient\n",
    "optimizer = torch.optim.SGD([\n",
    "                             { 'params' : [sim.lifetime], 'lr' : 1},\n",
    "                             { 'params' : [sim.eField], 'lr' : 3e-8}\n",
    "                            ], momentum=0.3)\n",
    "\n",
    "training_step_lifetimes = []\n",
    "training_step_eFields = []\n",
    "training_step_currents = []\n",
    "#Training loop\n",
    "for epoch in range(20):\n",
    "    optimizer.zero_grad()\n",
    "    \n",
    "    #Simulate with that parameter and get output\n",
    "    output = all_sim(sim, selected_tracks_torch, selected_tracks.dtype.names, event_id_map)\n",
    "    \n",
    "    #Calc loss between simulated and target + backprop\n",
    "    loss = loss_fn(output, target)\n",
    "    loss.backward()\n",
    "    \n",
    "    print(sim.lifetime.grad, sim.eField.grad)\n",
    "    optimizer.step()\n",
    "    print(sim.lifetime, sim.eField)\n",
    "    training_step_lifetimes.append(sim.lifetime.detach())\n",
    "    training_step_eFields.append(sim.eField.detach())\n",
    "    training_step_currents.append(output.detach())"
   ]
  },
  {
   "cell_type": "code",
   "execution_count": 25,
   "id": "a80ee7ef",
   "metadata": {},
   "outputs": [
    {
     "data": {
      "image/png": "[encoded data removed]",
      "text/plain": [
       "<Figure size 432x288 with 1 Axes>"
      ]
     },
     "metadata": {
      "needs_background": "light"
     },
     "output_type": "display_data"
    }
   ],
   "source": [
    "%matplotlib inline\n",
    "\n",
    "for ic, current in enumerate(training_step_currents):\n",
    "    plt.plot(current[target > 0].numpy()/target[target > 0].detach().numpy(), \n",
    "             label='lifetime = %.1f' % training_step_lifetimes[ic])\n",
    "\n",
    "plt.xlabel('Pixel (with current > 0)')\n",
    "plt.ylabel('Current Pred / Target')\n",
    "\n",
    "plt.show()"
   ]
  },
  {
   "cell_type": "markdown",
   "id": "baad61ec",
   "metadata": {},
   "source": [
    "2 parameter fit needs better optimization (loss gets very flat), but seems to work! \n",
    "To be investigated: how much does noise wash out differences of this magnitude?"
   ]
  },
  {
   "cell_type": "code",
   "execution_count": 26,
   "id": "02fd4846",
   "metadata": {},
   "outputs": [
    {
     "name": "stderr",
     "output_type": "stream",
     "text": [
      "/sdf/home/s/sgaz/conda/envs/ml/lib/python3.8/site-packages/ipykernel/ipkernel.py:287: DeprecationWarning: `should_run_async` will not call `transform_cell` automatically in the future. Please pass the result to `transformed_cell` argument and any exception that happen during thetransform in `preprocessing_exc_tuple` in IPython 7.17 and above.\n",
      "  and should_run_async(code)\n"
     ]
    },
    {
     "data": {
      "image/png": "[encoded data removed]",
      "text/plain": [
       "<Figure size 432x288 with 1 Axes>"
      ]
     },
     "metadata": {
      "needs_background": "light"
     },
     "output_type": "display_data"
    }
   ],
   "source": [
    "plt.plot(training_step_currents[-1][target > 0].numpy()/target[target > 0].detach().numpy())\n",
    "\n",
    "plt.xlabel('Pixel (with current > 0)')\n",
    "plt.ylabel('Current Pred / Target')\n",
    "\n",
    "plt.show()"
   ]
  },
  {
   "cell_type": "markdown",
   "id": "5688c6f4",
   "metadata": {},
   "source": [
    "Similar tests have been run with `long_diff` and `tran_diff`, and gradients can be passed through! Further tests to follow after electronics simulation"
   ]
  },
  {
   "cell_type": "code",
   "execution_count": null,
   "id": "5ba08ff4",
   "metadata": {},
   "outputs": [],
   "source": []
  }
 ],
 "metadata": {
  "kernelspec": {
   "display_name": "Python 3",
   "language": "python",
   "name": "python3"
  },
  "language_info": {
   "codemirror_mode": {
    "name": "ipython",
    "version": 3
   },
   "file_extension": ".py",
   "mimetype": "text/x-python",
   "name": "python",
   "nbconvert_exporter": "python",
   "pygments_lexer": "ipython3",
   "version": "3.8.11"
  }
 },
 "nbformat": 4,
 "nbformat_minor": 5
}
