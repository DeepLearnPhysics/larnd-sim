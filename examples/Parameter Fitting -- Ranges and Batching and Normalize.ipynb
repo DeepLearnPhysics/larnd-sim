{
 "cells": [
  {
   "cell_type": "code",
   "execution_count": 1,
   "id": "5aab4bd7",
   "metadata": {},
   "outputs": [],
   "source": [
    "%load_ext autoreload\n",
    "\n",
    "%autoreload 2"
   ]
  },
  {
   "cell_type": "code",
   "execution_count": 2,
   "id": "0286f622",
   "metadata": {
    "ExecuteTime": {
     "end_time": "2021-09-10T16:17:35.783961Z",
     "start_time": "2021-09-10T16:17:35.780875Z"
    }
   },
   "outputs": [],
   "source": [
    "# This is need so you can import larndsim without doing python setup.py install\n",
    "import os,sys,inspect\n",
    "currentdir = os.path.dirname(os.path.abspath(inspect.getfile(inspect.currentframe())))\n",
    "parentdir = os.path.dirname(currentdir)\n",
    "sys.path.insert(0,'/sdf/home/c/cyifan/larnd-sim_checkpoint/larnd-sim')"
   ]
  },
  {
   "cell_type": "code",
   "execution_count": 3,
   "id": "ab9fbdec",
   "metadata": {
    "ExecuteTime": {
     "end_time": "2021-09-10T16:17:37.542410Z",
     "start_time": "2021-09-10T16:17:36.716490Z"
    }
   },
   "outputs": [],
   "source": [
    "import matplotlib.pyplot as plt\n",
    "from matplotlib import cm, colors\n",
    "import mpl_toolkits.mplot3d.art3d as art3d\n",
    "\n",
    "import numpy as np\n",
    "import eagerpy as ep\n",
    "import h5py\n",
    "\n",
    "import matplotlib as mpl\n",
    "#mpl.rcParams['figure.dpi'] = 100\n",
    "import pickle"
   ]
  },
  {
   "cell_type": "code",
   "execution_count": 4,
   "id": "071ab4b6",
   "metadata": {
    "ExecuteTime": {
     "end_time": "2021-09-10T16:17:43.082648Z",
     "start_time": "2021-09-10T16:17:41.634432Z"
    }
   },
   "outputs": [],
   "source": [
    "from numpy.lib import recfunctions as rfn\n",
    "import torch\n",
    "\n",
    "def torch_from_structured(tracks):\n",
    "    tracks_np = rfn.structured_to_unstructured(tracks, copy=True, dtype=np.float32)\n",
    "    return torch.from_numpy(tracks_np).float()\n",
    "\n",
    "def structered_from_torch(tracks_torch, dtype):\n",
    "    return rfn.unstructured_to_structured(tracks_torch.cpu().numpy(), dtype=dtype)"
   ]
  },
  {
   "cell_type": "markdown",
   "id": "7df413dd",
   "metadata": {},
   "source": [
    "### Dataset import\n",
    "First of all we load the `edep-sim` output. For this sample we need to invert $z$ and $y$ axes."
   ]
  },
  {
   "cell_type": "code",
   "execution_count": 5,
   "id": "8f71db38",
   "metadata": {},
   "outputs": [],
   "source": [
    "# If you have access to a GPU, sim works trivially/is much faster\n",
    "if torch.cuda.is_available():\n",
    "    device = 'cuda'\n",
    "    torch.set_default_tensor_type('torch.cuda.FloatTensor')\n",
    "else:\n",
    "    device = 'cpu'"
   ]
  },
  {
   "cell_type": "code",
   "execution_count": 6,
   "id": "4c77bb5d",
   "metadata": {
    "ExecuteTime": {
     "end_time": "2021-09-10T16:17:48.185567Z",
     "start_time": "2021-09-10T16:17:48.173208Z"
    }
   },
   "outputs": [],
   "source": [
    "dir_name = '/sdf/group/neutrino/cyifan/muon-sim/fake_data_S1/edepsim-output.h5'\n",
    "fname = dir_name\n",
    "with h5py.File(fname, 'r') as f:\n",
    "    tracks = np.array(f['segments'])  \n",
    "\n",
    "x_start = np.copy(tracks['x_start'] )\n",
    "x_end = np.copy(tracks['x_end'])\n",
    "x = np.copy(tracks['x'])\n",
    "\n",
    "tracks['x_start'] = np.copy(tracks['z_start'])\n",
    "tracks['x_end'] = np.copy(tracks['z_end'])\n",
    "tracks['x'] = np.copy(tracks['z'])\n",
    "\n",
    "tracks['z_start'] = x_start\n",
    "tracks['z_end'] = x_end\n",
    "tracks['z'] = x"
   ]
  },
  {
   "cell_type": "code",
   "execution_count": 7,
   "id": "cc4dcf8a-95de-46e0-a840-26bb12a495bf",
   "metadata": {},
   "outputs": [
    {
     "name": "stdout",
     "output_type": "stream",
     "text": [
      "number of qualified tracks in this sample: 627\n"
     ]
    }
   ],
   "source": [
    "# Let's say we only take tracks that are longer than roughly 5 cm \n",
    "# (we shall see if this causes problem for S1)\n",
    "\n",
    "index = {}\n",
    "all_events = np.unique(tracks['eventID'])\n",
    "total_n_trks = 0\n",
    "for ev in all_events:\n",
    "    trk_pool = []\n",
    "    track_set = np.unique(tracks[tracks['eventID'] == ev]['trackID'])\n",
    "    for trk in track_set:\n",
    "        trk_msk = (tracks['eventID'] == ev) & (tracks['trackID'] == trk)\n",
    "        if sum(tracks[trk_msk]['dx']) > 5:\n",
    "            trk_pool.append(trk)\n",
    "    index[ev] = np.array(trk_pool)\n",
    "    total_n_trks += len(trk_pool)\n",
    "    \n",
    "print(\"number of qualified tracks in this sample: \" + str(total_n_trks))\n",
    "\n",
    "# Copy it, so the lottery box can be executed multiple times by itself\n",
    "temp_index = index"
   ]
  },
  {
   "cell_type": "code",
   "execution_count": 8,
   "id": "8909b5b9-ff35-416d-8a0a-c9cd7ea4cba4",
   "metadata": {},
   "outputs": [],
   "source": [
    "# Define number of tracks to train with\n",
    "n_tracks_to_train = 2"
   ]
  },
  {
   "cell_type": "code",
   "execution_count": 9,
   "id": "89b24ccf-28cb-42cc-af6e-c975efcbbbed",
   "metadata": {},
   "outputs": [],
   "source": [
    "# Time to draw lotteries\n",
    "train_index = []\n",
    "for i_trk in range(n_tracks_to_train):\n",
    "    rand_ev = np.random.choice(list(temp_index.keys()))\n",
    "    if temp_index[rand_ev].size == 0:\n",
    "        temp_index.pop(rand_ev, None)\n",
    "        rand_ev = np.random.choice(list(temp_index.keys()))\n",
    "    rand_track = np.random.choice(temp_index[rand_ev])\n",
    "    \n",
    "    temp_index[rand_ev] = np.delete(temp_index[rand_ev],np.where(temp_index[rand_ev] == rand_track)) \n",
    "    train_index.append(np.array([rand_ev, rand_track])) \n",
    "\n",
    "train_index = np.array(train_index)\n"
   ]
  },
  {
   "cell_type": "code",
   "execution_count": 35,
   "id": "8dc751f9-f842-4648-8842-7a0d0e107d4a",
   "metadata": {},
   "outputs": [],
   "source": [
    "def batch(tracks, size=5):\n",
    "    global i_batch_in_track\n",
    "    global active_train_index\n",
    "  \n",
    "    print(\"ev: \" + str(active_train_index[0][0]) + \", trk: \" + str(active_train_index[0][1]) + \", i_batch_in_track: \" + str(i_batch_in_track))\n",
    "    mask = (tracks['eventID']== active_train_index[0][0]) & (tracks['trackID'] == active_train_index[0][1])\n",
    "    \n",
    "    if tracks[mask].size > i_batch_in_track * size:\n",
    "        this_out_trk = tracks[mask][i_batch_in_track * size: (i_batch_in_track + 1) * size]\n",
    "        out_trk = torch_from_structured(this_out_trk.copy())\n",
    "        \n",
    "        i_batch_in_track += 1\n",
    "        if tracks[mask].size < (i_batch_in_track + 1) * size:\n",
    "            i_batch_in_track = 0\n",
    "            active_train_index = np.delete(active_train_index, 0, 0)\n",
    "\n",
    "    return out_trk "
   ]
  },
  {
   "cell_type": "markdown",
   "id": "b3010760",
   "metadata": {},
   "source": [
    "## Simulation\n",
    "To flexibly keep track of parameters/gradients, simulations are housed in a class `sim_with_grad`. This is derived from class versions of all the other modules. Parameters are housed in `consts`, with method `track_gradients` to promote the constants to `requires_grad=True` PyTorch tensors."
   ]
  },
  {
   "cell_type": "code",
   "execution_count": 11,
   "id": "92d3e014",
   "metadata": {},
   "outputs": [],
   "source": [
    "from larndsim.sim_with_grad import sim_with_grad"
   ]
  },
  {
   "cell_type": "markdown",
   "id": "b79e7cc7",
   "metadata": {},
   "source": [
    "## The simulation\n",
    "Following the flow of the simulation chain, define a function which takes in the `sim_with_grad` object, runs whatever pieces of the simulation, and returns desired output."
   ]
  },
  {
   "cell_type": "code",
   "execution_count": 34,
   "id": "04f1b7bb",
   "metadata": {},
   "outputs": [],
   "source": [
    "def get_id_map(selected_tracks, fields):\n",
    "#     print(fields)\n",
    "    # Here we build a map between tracks and event IDs (no param dependence, so np should be ok)\n",
    "    unique_eventIDs = np.unique(selected_tracks[:, fields.index('eventID')])\n",
    "    event_id_map = np.searchsorted(unique_eventIDs,np.asarray(selected_tracks[:, fields.index('eventID')]))\n",
    "    \n",
    "    event_id_map_torch = torch.from_numpy(event_id_map).to(device)\n",
    "#     print(unique_eventIDs)\n",
    "    return event_id_map_torch, unique_eventIDs"
   ]
  },
  {
   "cell_type": "code",
   "execution_count": 13,
   "id": "1db725a9",
   "metadata": {},
   "outputs": [],
   "source": [
    "def all_sim(sim, selected_tracks, fields, event_id_map, unique_eventIDs, return_unique_pix=False):\n",
    "    selected_tracks_quench = sim.quench(selected_tracks, sim.birks, fields=fields)\n",
    "    selected_tracks_drift = sim.drift(selected_tracks_quench, fields=fields)\n",
    "\n",
    "    active_pixels_torch, neighboring_pixels_torch, n_pixels_list_ep = sim.get_pixels(selected_tracks_drift,\n",
    "                                                                                     fields=fields)\n",
    "\n",
    "    track_starts_torch, max_length_torch = sim.time_intervals(event_id_map, \n",
    "                                                              selected_tracks_drift, \n",
    "                                                              fields=fields)\n",
    "    \n",
    "    signals_ep = sim.tracks_current(neighboring_pixels_torch, selected_tracks_drift, \n",
    "                                          max_length_torch,\n",
    "                                          fields=fields)\n",
    "\n",
    "    unique_pix_torch = torch.empty((0, 2))\n",
    "    pixels_signals_torch = torch.zeros((len(unique_pix_torch), len(sim.time_ticks)*50))\n",
    "\n",
    "    shapes_torch = neighboring_pixels_torch.shape\n",
    "    joined_torch = neighboring_pixels_torch.reshape(shapes_torch[0]*shapes_torch[1], 2)\n",
    "\n",
    "    this_unique_pix_torch = torch.unique(joined_torch, dim=0)\n",
    "    this_unique_pix_torch = this_unique_pix_torch[(this_unique_pix_torch[:,0] != -1) & (this_unique_pix_torch[:,1] != -1),:]\n",
    "    unique_pix_torch = torch.cat((unique_pix_torch, this_unique_pix_torch),dim=0)\n",
    "\n",
    "    this_pixels_signals_torch = torch.zeros((len(this_unique_pix_torch), len(sim.time_ticks)*50))\n",
    "    pixels_signals_torch = torch.cat((pixels_signals_torch, this_pixels_signals_torch), dim=0)\n",
    "\n",
    "    pixel_index_map_torch = torch.full((selected_tracks.shape[0], neighboring_pixels_torch.shape[1]), -1)\n",
    "    compare_torch = (neighboring_pixels_torch[..., np.newaxis, :] == unique_pix_torch)\n",
    "\n",
    "    indices_torch = torch.where(torch.logical_and(compare_torch[..., 0], compare_torch[...,1]))\n",
    "    pixel_index_map_torch[indices_torch[0], indices_torch[1]] = indices_torch[2]\n",
    "    \n",
    "    pixels_signals_torch = sim.sum_pixel_signals(pixels_signals_torch,\n",
    "                                                 signals_ep,\n",
    "                                                track_starts_torch,\n",
    "                                                pixel_index_map_torch)\n",
    "    \n",
    "    time_ticks_torch = torch.linspace(0, len(unique_eventIDs)*sim.time_interval[1]*3, pixels_signals_torch.shape[1]+1)\n",
    "\n",
    "    integral_list_torch, adc_ticks_list_torch = sim.get_adc_values(pixels_signals_torch,\n",
    "                                                                   time_ticks_torch,\n",
    "                                                                   0)\n",
    "    adc_list_torch = sim.digitize(integral_list_torch)\n",
    "\n",
    "    if return_unique_pix:\n",
    "        return adc_list_torch, unique_pix_torch,\n",
    "    else:\n",
    "        return adc_list_torch"
   ]
  },
  {
   "cell_type": "code",
   "execution_count": 14,
   "id": "577a6bb9",
   "metadata": {},
   "outputs": [],
   "source": [
    "# Update parameters for training loop\n",
    "def update_grad_param(sim, name, value):\n",
    "    setattr(sim, name, value)\n",
    "    sim.track_gradients([name])"
   ]
  },
  {
   "cell_type": "code",
   "execution_count": 15,
   "id": "5287eddd",
   "metadata": {},
   "outputs": [],
   "source": [
    "# ADC counts given as list of pixels. Better for loss to embed this in the \"full\" pixel space\n",
    "def embed_adc_list(sim, adc_list, unique_pix):\n",
    "    zero_val = sim.digitize(torch.tensor(0)).item()\n",
    "    new_list = torch.ones((sim.n_pixels[0], sim.n_pixels[1], adc_list.shape[1]))*zero_val\n",
    "\n",
    "    plane_id = unique_pix[..., 0] // sim.n_pixels[0]\n",
    "    unique_pix[..., 0] = unique_pix[..., 0] - sim.n_pixels[0] * plane_id\n",
    "\n",
    "    new_list[unique_pix[:, 0].long(), unique_pix[:, 1].long(), :] = adc_list\n",
    "    \n",
    "    return new_list"
   ]
  },
  {
   "cell_type": "markdown",
   "id": "d16529f0",
   "metadata": {},
   "source": [
    "## Define dict with ranges from the spreadsheet\n",
    "https://docs.google.com/spreadsheets/d/1DLpSDgPsHeHUWCEBayYCcbLzIzd30vfBe72N-Z5vWTc/edit#gid=1247026028"
   ]
  },
  {
   "cell_type": "code",
   "execution_count": 17,
   "id": "12ce1f55",
   "metadata": {},
   "outputs": [],
   "source": [
    "ranges = {}\n",
    "ranges['lArDensity']     = {'nom': 1.38, 'down': 1.37, 'up': 1.41}\n",
    "ranges['eField']         = {'nom': 0.5, 'down': 0.45, 'up': 0.55}\n",
    "ranges['vdrift']         = {'nom': 0.1648, 'down': 0.1400, 'up': 0.1800}\n",
    "ranges['MeVToElectrons'] = {'nom': 4.24e4, 'down': 3.48e4, 'up': 5.13e4}\n",
    "ranges['alpha']          = {'nom': 0.93, 'down': 0.85, 'up': 1.1}\n",
    "ranges['beta']           = {'nom': 0.207, 'down': 0.18, 'up': 0.22}\n",
    "ranges['Ab']             = {'nom': 0.8, 'down': 0.78, 'up': 0.88}\n",
    "ranges['kb']             = {'nom': 0.0486, 'down': 0.04, 'up': 0.07}\n",
    "ranges['lifetime']       = {'nom': 2.2e3, 'down': 300, 'up': 3e4}\n",
    "ranges['long_diff']      = {'nom': 4.0e-6, 'down': 2e-6, 'up': 9e-6}\n",
    "ranges['tran_diff']      = {'nom': 8.8e-6, 'down': 4e-6, 'up': 14e-6}"
   ]
  },
  {
   "cell_type": "code",
   "execution_count": 75,
   "id": "62e78f1f",
   "metadata": {},
   "outputs": [],
   "source": [
    "def param_l2_reg(param, sim):\n",
    "    sigma = (ranges[param]['up'] - ranges[param]['down'])/2.\n",
    "    return ((ranges[param]['nom']-getattr(sim, param))**2)/(sigma**2)"
   ]
  },
  {
   "cell_type": "code",
   "execution_count": 18,
   "id": "0eec4673",
   "metadata": {},
   "outputs": [],
   "source": [
    "def calc_reg_loss(param_list, sim, regs):\n",
    "    reg_loss = 0.\n",
    "    for param in param_list:\n",
    "        reg_loss+=regs[param]*param_l2_reg(param, sim)\n",
    "        \n",
    "    return reg_loss"
   ]
  },
  {
   "cell_type": "code",
   "execution_count": 19,
   "id": "c0eb840b",
   "metadata": {},
   "outputs": [],
   "source": [
    "#Simulate with some set:\n",
    "sim_target = sim_with_grad(track_chunk=1, pixel_chunk=1)\n",
    "sim_target.load_detector_properties(\"../larndsim/detector_properties/module0.yaml\",\n",
    "                             \"../larndsim/pixel_layouts/multi_tile_layout-2.2.16.yaml\")"
   ]
  },
  {
   "cell_type": "code",
   "execution_count": 20,
   "id": "b1a4de40",
   "metadata": {},
   "outputs": [],
   "source": [
    "relevant_params = ['eField', 'lifetime']"
   ]
  },
  {
   "cell_type": "code",
   "execution_count": 21,
   "id": "83c282f9",
   "metadata": {},
   "outputs": [],
   "source": [
    "#Setup simulation object for training -- params initialized to defaults\n",
    "sim = sim_with_grad(track_chunk=1, pixel_chunk=1)\n",
    "sim.load_detector_properties(\"../larndsim/detector_properties/module0.yaml\",\n",
    "                             \"../larndsim/pixel_layouts/multi_tile_layout-2.2.16.yaml\")\n",
    "\n",
    "sim.track_gradients(relevant_params)"
   ]
  },
  {
   "cell_type": "markdown",
   "id": "cff6b45c",
   "metadata": {},
   "source": [
    "## Instead of varying all params by hand, draw randomly in range\n",
    "These are used as the targets"
   ]
  },
  {
   "cell_type": "code",
   "execution_count": 22,
   "id": "5fc2336a",
   "metadata": {},
   "outputs": [],
   "source": [
    "np.random.seed(2)\n",
    "for param in relevant_params:\n",
    "    param_val = np.random.uniform(low=ranges[param]['down'], \n",
    "                                      high=ranges[param]['up'])\n",
    "    \n",
    "    setattr(sim_target, param, param_val)"
   ]
  },
  {
   "cell_type": "code",
   "execution_count": 23,
   "id": "56cf59cf",
   "metadata": {
    "scrolled": true
   },
   "outputs": [
    {
     "name": "stdout",
     "output_type": "stream",
     "text": [
      "eField, target: 0.4935994902142004, init 0.5\n",
      "lifetime, target: 1070.0090852883727, init 2200.0\n"
     ]
    }
   ],
   "source": [
    "for param in relevant_params:\n",
    "    print(f'{param}, target: {getattr(sim_target, param)}, init {getattr(sim, param).item()}')"
   ]
  },
  {
   "cell_type": "markdown",
   "id": "f6dbad35",
   "metadata": {},
   "source": [
    "### Add in rough checkpointing"
   ]
  },
  {
   "cell_type": "code",
   "execution_count": 24,
   "id": "872b276e",
   "metadata": {},
   "outputs": [],
   "source": [
    "do_checkpoint=False"
   ]
  },
  {
   "cell_type": "code",
   "execution_count": 25,
   "id": "5d91ac28",
   "metadata": {},
   "outputs": [],
   "source": [
    "from glob import glob\n",
    "import os"
   ]
  },
  {
   "cell_type": "code",
   "execution_count": 26,
   "id": "ee6f8dc8",
   "metadata": {},
   "outputs": [],
   "source": [
    "if do_checkpoint:\n",
    "    saved = glob('history_epoch*.pkl')\n",
    "    num = max([int(os.path.splitext(file)[0][len('history_epoch'):]) for file in saved])\n",
    "    history = pickle.load(open(f'history_epoch{num}.pkl', \"rb\"))"
   ]
  },
  {
   "cell_type": "code",
   "execution_count": 27,
   "id": "54a15314",
   "metadata": {},
   "outputs": [],
   "source": [
    "#Setup simulation object for training -- params initialized to defaults\n",
    "sim = sim_with_grad(track_chunk=1, pixel_chunk=1)\n",
    "sim.load_detector_properties(\"../larndsim/detector_properties/module0.yaml\",\n",
    "                             \"../larndsim/pixel_layouts/multi_tile_layout-2.2.16.yaml\")\n",
    "if do_checkpoint:\n",
    "    for param in relevant_params:\n",
    "        setattr(sim, param, history[param][-1])"
   ]
  },
  {
   "cell_type": "code",
   "execution_count": 28,
   "id": "7b99a6e5",
   "metadata": {},
   "outputs": [],
   "source": [
    "#Setup simulation object for training -- params initialized to defaults\n",
    "sim_extra = sim_with_grad(track_chunk=1, pixel_chunk=1)\n",
    "sim_extra.load_detector_properties(\"../larndsim/detector_properties/module0.yaml\",\n",
    "                             \"../larndsim/pixel_layouts/multi_tile_layout-2.2.16.yaml\")"
   ]
  },
  {
   "cell_type": "code",
   "execution_count": 29,
   "id": "ddfb4684",
   "metadata": {},
   "outputs": [],
   "source": [
    "regs = {}\n",
    "regs['eField'] = 1e-4\n",
    "regs['lifetime'] = 1e-4\n",
    "regs['vdrift'] = 1e-4\n",
    "regs['lArDensity'] = 1e-4\n",
    "regs['Ab'] = 1e-4\n",
    "regs['kb'] = 1e-4"
   ]
  },
  {
   "cell_type": "code",
   "execution_count": 30,
   "id": "348fc333",
   "metadata": {},
   "outputs": [],
   "source": [
    "if not do_checkpoint:\n",
    "    for param in relevant_params:\n",
    "        setattr(sim, param, getattr(sim, param)/ranges[param]['nom'])\n",
    "    \n",
    "sim.track_gradients(relevant_params)"
   ]
  },
  {
   "cell_type": "code",
   "execution_count": 31,
   "id": "cb05b659",
   "metadata": {},
   "outputs": [],
   "source": [
    "#Simple MSE loss between target and output\n",
    "loss_fn = torch.nn.MSELoss()\n",
    "\n",
    "optimizer = torch.optim.SGD([#{'params' : sim.lArDensity, 'lr': 0.2},\n",
    "                              {'params' : sim.eField, 'lr': 8e0},\n",
    "                              #{'params' : sim.vdrift, 'lr': 8e0},\n",
    "                             # {'params' : sim.MeVToElectrons, 'lr': 0.001},\n",
    "#                               {'params' : sim.Ab, 'lr': 8e0},\n",
    "#                               {'params' : sim.kb, 'lr': 8e0},\n",
    "                              {'params' : sim.lifetime, 'lr': 8e0},\n",
    "#                              #{'params' : sim.long_diff, 'lr': 1e-9},\n",
    "                              #{'params' : sim.tran_diff, 'lr': 5e-9}\n",
    "                              ])\n",
    "\n",
    "                              \n",
    "\n",
    "training_step_track = {}\n",
    "for param in relevant_params:\n",
    "    training_step_track[param] = []\n",
    "losses = []\n",
    "reg_losses = []\n",
    "\n",
    "for param in relevant_params:\n",
    "    if do_checkpoint:\n",
    "        training_step_track[param] += history[param]\n",
    "    else:\n",
    "        training_step_track[param].append(getattr(sim, param).item())"
   ]
  },
  {
   "cell_type": "code",
   "execution_count": 32,
   "id": "a34f2579",
   "metadata": {},
   "outputs": [],
   "source": [
    "from tqdm import tqdm"
   ]
  },
  {
   "cell_type": "code",
   "execution_count": 37,
   "id": "b5c9a434",
   "metadata": {
    "scrolled": true
   },
   "outputs": [
    {
     "name": "stdout",
     "output_type": "stream",
     "text": [
      "--- epoch:  0\n",
      "ev: 8, trk: 8, i_batch_in_track: 0\n",
      "ev: 8, trk: 8, i_batch_in_track: 1\n",
      "ev: 8, trk: 8, i_batch_in_track: 2\n",
      "ev: 8, trk: 8, i_batch_in_track: 3\n",
      "ev: 1, trk: 5, i_batch_in_track: 0\n",
      "ev: 1, trk: 5, i_batch_in_track: 1\n",
      "ev: 1, trk: 5, i_batch_in_track: 2\n",
      "0.0006475239060819149\n",
      "eField 0.9261345267295837\n",
      "lifetime 0.9617841243743896\n",
      "--- epoch:  1\n",
      "ev: 8, trk: 8, i_batch_in_track: 0\n",
      "ev: 8, trk: 8, i_batch_in_track: 1\n",
      "ev: 8, trk: 8, i_batch_in_track: 2\n",
      "ev: 8, trk: 8, i_batch_in_track: 3\n",
      "ev: 1, trk: 5, i_batch_in_track: 0\n",
      "ev: 1, trk: 5, i_batch_in_track: 1\n",
      "ev: 1, trk: 5, i_batch_in_track: 2\n",
      "0.000716955226380378\n",
      "eField 0.8940661549568176\n",
      "lifetime 0.9454888105392456\n",
      "--- epoch:  2\n",
      "ev: 8, trk: 8, i_batch_in_track: 0\n",
      "ev: 8, trk: 8, i_batch_in_track: 1\n",
      "ev: 8, trk: 8, i_batch_in_track: 2\n",
      "ev: 8, trk: 8, i_batch_in_track: 3\n",
      "ev: 1, trk: 5, i_batch_in_track: 0\n",
      "ev: 1, trk: 5, i_batch_in_track: 1\n",
      "ev: 1, trk: 5, i_batch_in_track: 2\n",
      "0.0009431554353795946\n",
      "eField 0.8640632629394531\n",
      "lifetime 0.9308220148086548\n",
      "--- epoch:  3\n",
      "ev: 8, trk: 8, i_batch_in_track: 0\n",
      "ev: 8, trk: 8, i_batch_in_track: 1\n",
      "ev: 8, trk: 8, i_batch_in_track: 2\n",
      "ev: 8, trk: 8, i_batch_in_track: 3\n",
      "ev: 1, trk: 5, i_batch_in_track: 0\n",
      "ev: 1, trk: 5, i_batch_in_track: 1\n",
      "ev: 1, trk: 5, i_batch_in_track: 2\n",
      "0.0008217295398935676\n",
      "eField 0.8380804061889648\n",
      "lifetime 0.9183502793312073\n"
     ]
    }
   ],
   "source": [
    "# n_batch = 10\n",
    "\n",
    "#Training loop\n",
    "track_mem = []\n",
    "save_freq = 5\n",
    "err_count = 0\n",
    "\n",
    "i_batch_in_track = 0\n",
    "\n",
    "for epoch in range(4):  \n",
    "    print(\"--- epoch: \", epoch)\n",
    "    \n",
    "    active_train_index = np.copy(train_index)\n",
    "    while(active_train_index.size > 0):\n",
    "        losses_batch=[]\n",
    "        optimizer.zero_grad()\n",
    "        selected_tracks_torch = batch(tracks, size = 5)\n",
    "      \n",
    "        event_id_map, unique_eventIDs = get_id_map(selected_tracks_torch, tracks.dtype.names)\n",
    "        selected_tracks_torch = selected_tracks_torch.to(device)\n",
    "        \n",
    "        target, pix_target = all_sim(sim_target, selected_tracks_torch, tracks.dtype.names, \n",
    "                                     event_id_map, unique_eventIDs,\n",
    "                                  return_unique_pix=True)\n",
    "        \n",
    "        for param in relevant_params:\n",
    "            setattr(sim_extra, param, getattr(sim, param)*ranges[param]['nom'])\n",
    "\n",
    "        #Simulate with that parameter and get output\n",
    "        output, pix_out = all_sim(sim_extra, selected_tracks_torch, tracks.dtype.names, \n",
    "                                  event_id_map, unique_eventIDs,\n",
    "                                  return_unique_pix=True)\n",
    "        \n",
    "        embed_output = embed_adc_list(sim, output, pix_out)\n",
    "        embed_target = embed_adc_list(sim_target, target, pix_target)\n",
    "        mem = torch.cuda.memory_allocated()/(1024*1024)\n",
    "        track_mem.append(mem)\n",
    "    \n",
    "        #Calc loss between simulated and target + backprop\n",
    "        loss = loss_fn(embed_output, embed_target) #+ calc_reg_loss(relevant_params, sim, regs)\n",
    "        loss.backward()\n",
    "    \n",
    "        nan_check = torch.tensor([getattr(sim, param).grad.isnan() for param in relevant_params]).sum()\n",
    "        if nan_check == 0 and loss !=0 and not loss.isnan():\n",
    "            optimizer.step()\n",
    "            losses_batch.append(loss.item())\n",
    "                \n",
    "    if len(losses_batch) > 0:\n",
    "        losses.append(np.mean(losses_batch))\n",
    "        print(np.mean(losses_batch))\n",
    "    if epoch % 1 == 0:\n",
    "        for param in relevant_params:\n",
    "            print(param, getattr(sim,param).item())\n",
    "        \n",
    "    for param in relevant_params:\n",
    "        #print(param, getattr(sim_target, param), getattr(sim, param).item())\n",
    "        training_step_track[param].append(getattr(sim, param).item())\n",
    "    \n",
    "    n_steps = len(training_step_track[param])\n",
    "    if n_steps % save_freq == 0:\n",
    "        with open(f'log/history_epoch{n_steps}.pkl', \"wb\") as f_history:\n",
    "            pickle.dump(training_step_track, f_history)\n",
    "            pickle.dump(losses, f_history)"
   ]
  },
  {
   "cell_type": "code",
   "execution_count": null,
   "id": "676bb09f",
   "metadata": {},
   "outputs": [],
   "source": [
    "for param in relevant_params:\n",
    "    plt.plot(np.asarray(training_step_track[param])*ranges[param]['nom']/getattr(sim_target, param))\n",
    "    plt.plot([0, len(training_step_track[param])], [1, 1], c='k', ls='dashed')\n",
    "    plt.ylabel('Fitted Value / Target')\n",
    "    plt.title(param)\n",
    "    plt.xlabel('Training Epoch')\n",
    "    plt.savefig(f'snapshot_{param}_with_normalize_S0_1000.pdf')\n",
    "    plt.show()"
   ]
  },
  {
   "cell_type": "code",
   "execution_count": null,
   "id": "208fb866-88f1-4c3e-a497-eb79b044067b",
   "metadata": {},
   "outputs": [],
   "source": [
    "plt.plot(np.asarray(losses))\n",
    "plt.ylabel('Loss')\n",
    "plt.title(param)\n",
    "plt.xlabel('Training Epoch')\n",
    "plt.savefig(f'snapshot_loss_with_normalize_S0_1000.pdf')\n",
    "plt.show()"
   ]
  },
  {
   "cell_type": "code",
   "execution_count": null,
   "id": "dfd1c408",
   "metadata": {},
   "outputs": [],
   "source": [
    "plt.scatter(np.asarray(training_step_track['eField'])*ranges['eField']['nom'],\n",
    "            np.asarray(training_step_track['lifetime'])*ranges['lifetime']['nom']\n",
    "           )\n",
    "plt.scatter(getattr(sim_target, 'eField'), getattr(sim_target, 'lifetime'), marker=(5, 1), label='target')\n",
    "plt.scatter(np.asarray(training_step_track['eField'][0])*ranges['eField']['nom'],\n",
    "            np.asarray(training_step_track['lifetime'][0])*ranges['lifetime']['nom'], \n",
    "            marker=\"<\", label='start')\n",
    "\n",
    "legend = plt.legend(loc='upper right')\n",
    "plt.savefig(f'snapshot_eField_lifetime_with_normalize_S0_1000.pdf')\n",
    "plt.show()"
   ]
  },
  {
   "cell_type": "code",
   "execution_count": null,
   "id": "0e30557b",
   "metadata": {},
   "outputs": [],
   "source": []
  }
 ],
 "metadata": {
  "kernelspec": {
   "display_name": "Python 3 (ipykernel)",
   "language": "python",
   "name": "python3"
  },
  "language_info": {
   "codemirror_mode": {
    "name": "ipython",
    "version": 3
   },
   "file_extension": ".py",
   "mimetype": "text/x-python",
   "name": "python",
   "nbconvert_exporter": "python",
   "pygments_lexer": "ipython3",
   "version": "3.8.10"
  }
 },
 "nbformat": 4,
 "nbformat_minor": 5
}
